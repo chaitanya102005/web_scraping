{
 "cells": [
  {
   "cell_type": "code",
   "execution_count": null,
   "metadata": {},
   "outputs": [],
   "source": []
  },
  {
   "cell_type": "code",
   "execution_count": 2,
   "metadata": {},
   "outputs": [
    {
     "name": "stdout",
     "output_type": "stream",
     "text": [
      "Title: A Light in the Attic, Price: £51.77\n",
      "Title: Tipping the Velvet, Price: £53.74\n",
      "Title: Soumission, Price: £50.10\n",
      "Title: Sharp Objects, Price: £47.82\n",
      "Title: Sapiens: A Brief History of Humankind, Price: £54.23\n",
      "Title: The Requiem Red, Price: £22.65\n",
      "Title: The Dirty Little Secrets of Getting Your Dream Job, Price: £33.34\n",
      "Title: The Coming Woman: A Novel Based on the Life of the Infamous Feminist, Victoria Woodhull, Price: £17.93\n",
      "Title: The Boys in the Boat: Nine Americans and Their Epic Quest for Gold at the 1936 Berlin Olympics, Price: £22.60\n",
      "Title: The Black Maria, Price: £52.15\n",
      "Title: Starving Hearts (Triangular Trade Trilogy, #1), Price: £13.99\n",
      "Title: Shakespeare's Sonnets, Price: £20.66\n",
      "Title: Set Me Free, Price: £17.46\n",
      "Title: Scott Pilgrim's Precious Little Life (Scott Pilgrim #1), Price: £52.29\n",
      "Title: Rip it Up and Start Again, Price: £35.02\n",
      "Title: Our Band Could Be Your Life: Scenes from the American Indie Underground, 1981-1991, Price: £57.25\n",
      "Title: Olio, Price: £23.88\n",
      "Title: Mesaerion: The Best Science Fiction Stories 1800-1849, Price: £37.59\n",
      "Title: Libertarianism for Beginners, Price: £51.33\n",
      "Title: It's Only the Himalayas, Price: £45.17\n"
     ]
    }
   ],
   "source": [
    "import requests\n",
    "from bs4 import BeautifulSoup\n",
    "\n",
    "url = 'https://books.toscrape.com/'\n",
    "response = requests.get(url)\n",
    "\n",
    "soup = BeautifulSoup(response.content, 'html.parser')\n",
    "\n",
    "books = soup.find_all('article', class_='product_pod')\n",
    "for book in books:\n",
    "    title = book.h3.a['title']\n",
    "    price = book.find('p', class_='price_color').text\n",
    "    print(f'Title: {title}, Price: {price}')"
   ]
  }
 ],
 "metadata": {
  "kernelspec": {
   "display_name": "base",
   "language": "python",
   "name": "python3"
  },
  "language_info": {
   "codemirror_mode": {
    "name": "ipython",
    "version": 3
   },
   "file_extension": ".py",
   "mimetype": "text/x-python",
   "name": "python",
   "nbconvert_exporter": "python",
   "pygments_lexer": "ipython3",
   "version": "3.12.7"
  }
 },
 "nbformat": 4,
 "nbformat_minor": 2
}
